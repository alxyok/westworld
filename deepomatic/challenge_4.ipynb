{
 "cells": [
  {
   "cell_type": "code",
   "execution_count": 211,
   "id": "fc91f22a-3c7c-41cf-84b7-410f5aeee0fb",
   "metadata": {},
   "outputs": [],
   "source": [
    "import copy\n",
    "import numpy as np"
   ]
  },
  {
   "cell_type": "code",
   "execution_count": 226,
   "id": "de2f738f-bde8-47ef-bb65-c67b6c2a6d4e",
   "metadata": {},
   "outputs": [],
   "source": [
    "new_game = np.array([[0, 1, 0, 1, 0, 1, 0, 1],\n",
    "                     [1, 0, 1, 0, 1, 0, 1, 0],\n",
    "                     [0, 1, 0, 2, 0, 1, 0, 1],\n",
    "                     [0, 0, 0, 0, -1, 0, 0, 0],\n",
    "                     [0, 0, 0, 0, 0, 0, 0, 0],\n",
    "                     [-1, 0, -1, 0, -1, 0, -1, 0],\n",
    "                     [0, -1, 0, 0, 0, -1, 0, -1],\n",
    "                     [-1, 0, -1, 0, -1, 0, -1, 0]])\n",
    "n = new_game.shape[0]"
   ]
  },
  {
   "cell_type": "code",
   "execution_count": 170,
   "id": "d60542ef-4b0c-4055-8f8a-ceca840839e8",
   "metadata": {},
   "outputs": [],
   "source": [
    "zeros = np.zeros((2, 2))\n",
    "one_step_filters = {\n",
    "    'down_left': np.array([[0, 1],\n",
    "                           [0, 0]]),\n",
    "    'down_right': np.array([[1, 0],\n",
    "                            [0, 0]]),\n",
    "    'up_left': np.array([[0, 0],\n",
    "                         [0, -1]]),\n",
    "    'up_right': np.array([[0, 0],\n",
    "                          [-1, 0]])\n",
    "}"
   ]
  },
  {
   "cell_type": "code",
   "execution_count": 323,
   "id": "83090804-e0cf-4ac9-8bef-40a66ef0ad13",
   "metadata": {},
   "outputs": [],
   "source": [
    "def one_step_conv(color, sub_arr, i, j):\n",
    "    moves = []\n",
    "    if color == 'b':\n",
    "        filters = {k: v for k, v in one_step_filters.items() if 'down' in k}\n",
    "    else:\n",
    "        filters = {k: v for k, v in one_step_filters.items() if 'up' in k}\n",
    "        \n",
    "    for name, filter_ in filters.items():\n",
    "        is_equal = np.array_equal(sub_arr, filter_)\n",
    "        if is_equal:\n",
    "            move = []\n",
    "            \n",
    "            if 'left' in name and 'down' in name:\n",
    "                move.append((i, j + 1))\n",
    "                move.append((i + 1, j))\n",
    "                \n",
    "            if 'left' in name and 'up' in name:\n",
    "                move.append((i + 1, j + 1))\n",
    "                move.append((i, j))\n",
    "                \n",
    "            if 'right' in name and 'down' in name:\n",
    "                move.append((i, j))\n",
    "                move.append((i + 1, j + 1))\n",
    "                \n",
    "            if 'right' in name and 'up' in name:\n",
    "                move.append((i + 1, j))\n",
    "                move.append((i, j + 1))\n",
    "                \n",
    "            moves.append(move)\n",
    "    return moves"
   ]
  },
  {
   "cell_type": "code",
   "execution_count": 324,
   "id": "bf4888da-f472-437b-a927-97c108f5f603",
   "metadata": {},
   "outputs": [],
   "source": [
    "board = [\n",
    "    '________',\n",
    "    '__b_____',\n",
    "    '_w_w____',\n",
    "    '________',\n",
    "    '_w______',\n",
    "    '______b_',\n",
    "    '_____w__',\n",
    "    '____w___'\n",
    "]"
   ]
  },
  {
   "cell_type": "code",
   "execution_count": 325,
   "id": "afbd0d54-3a44-4b7e-b30d-03a9d067f4fa",
   "metadata": {},
   "outputs": [],
   "source": [
    "def strings_to_array(board):\n",
    "    arrays = []\n",
    "    for i, string in enumerate(board):\n",
    "        chars = [c for c in string]\n",
    "        \n",
    "        for i, s in enumerate(chars):\n",
    "            if s == '_':\n",
    "                chars[i] = 0\n",
    "            elif s == 'w':\n",
    "                chars[i] = -1\n",
    "            elif s == 'W':\n",
    "                chars[i] = -2\n",
    "            elif s == 'b':\n",
    "                chars[i] = 1\n",
    "            elif s == 'B':\n",
    "                chars[i] = 2\n",
    "        arrays.append(chars)\n",
    "        \n",
    "    array = np.stack(arrays)\n",
    "    return array"
   ]
  },
  {
   "cell_type": "code",
   "execution_count": 340,
   "id": "2ed047c6-c3ee-482c-8f35-0583383d4a21",
   "metadata": {},
   "outputs": [],
   "source": [
    "def go_down_the_rabbit_hole(color, game, current_move, i, j):\n",
    "    if i < n - 2 and j < n - 2:\n",
    "        if not current_move:\n",
    "            current_move = [(i, j)]\n",
    "            \n",
    "        disc_type = game[i, j]\n",
    "        \n",
    "        if disc_type >= 1 and color == 'b':\n",
    "            game[i, j] = 0\n",
    "            if game[i + 1, j - 1] <= -1 and game[i + 2, j - 2] == 0:\n",
    "                game[i + 1, j - 1] = 0\n",
    "                game[i + 2, j - 2] = disc_type\n",
    "                current_move.append((i + 2, j - 2))\n",
    "                current_move = go_down_the_rabbit_hole(color, game, copy.deepcopy(current_move), i + 2, j - 2)\n",
    "            if game[i + 1, j + 1] <= -1 and game[i + 2, j + 2] == 0:\n",
    "                game[i + 1, j + 1] = 0\n",
    "                game[i + 2, j + 2] = disc_type\n",
    "                current_move.append((i + 2, j + 2))\n",
    "                current_move = go_down_the_rabbit_hole(color, game, copy.deepcopy(current_move), i + 2, j + 2)\n",
    "                \n",
    "        elif disc_type <= -1 and color == 'w':\n",
    "            game[i, j] = 0\n",
    "            if game[i - 1, j - 1] >= 1 and game[i - 2, j - 2] == 0:\n",
    "                game[i - 1, j - 1] = 0\n",
    "                game[i - 2, j - 2] = disc_type\n",
    "                current_move.append((i - 2, j - 2))\n",
    "                current_move = go_down_the_rabbit_hole(color, game, copy.deepcopy(current_move), i - 2, j - 2)\n",
    "            if game[i - 1, j + 1] >= 1 and game[i - 2, j + 2] == 0:\n",
    "                game[i - 1, j + 1] = 0\n",
    "                game[i - 2, j + 2] = disc_type\n",
    "                current_move.append((i - 2, j + 2))\n",
    "                current_move = go_down_the_rabbit_hole(color, game, copy.deepcopy(current_move), i - 2, j + 2)\n",
    "                \n",
    "        if disc_type == 2 and color == 'b':\n",
    "            game[i, j] = 0\n",
    "            if game[i - 1, j - 1] <= -1 and game[i - 2, j - 2] == 0:\n",
    "                game[i - 1, j - 1] = 0\n",
    "                game[i - 2, j - 2] = disc_type\n",
    "                current_move.append((i - 2, j - 2))\n",
    "                current_move = go_down_the_rabbit_hole(color, game, copy.deepcopy(current_move), i - 2, j - 2)\n",
    "            if game[i - 1, j + 1] <= -1 and game[i - 2, j + 2] == 0:\n",
    "                game[i - 1, j + 1] = 0\n",
    "                game[i - 2, j + 2] = disc_type\n",
    "                current_move.append((i - 2, j + 2))\n",
    "                current_move = go_down_the_rabbit_hole(color, game, copy.deepcopy(current_move), i - 2, j + 2)\n",
    "                \n",
    "        if disc_type == -2 and color == 'w':\n",
    "            game[i, j] = 0\n",
    "            if game[i + 1, j - 1] >= 1 and game[i + 2, j - 2] == 0:\n",
    "                game[i + 1, j - 1] = 0\n",
    "                game[i + 2, j - 2] = disc_type\n",
    "                current_move.append((i + 2, j - 2))\n",
    "                current_move = go_down_the_rabbit_hole.append(color, game, copy.deepcopy(current_move), i + 2, j - 2)\n",
    "            if game[i + 1, j + 1] >= 1 and game[i + 2, j + 2] == 0:\n",
    "                game[i + 1, j + 1] = 0\n",
    "                game[i + 2, j + 2] = disc_type\n",
    "                current_move.append((i + 2, j + 2))\n",
    "                current_move = go_down_the_rabbit_hole.append(color, game, copy.deepcopy(current_move), i + 2, j + 2)\n",
    "                \n",
    "    if len(current_move) <= 1:\n",
    "        return []\n",
    "    \n",
    "    return current_move"
   ]
  },
  {
   "cell_type": "code",
   "execution_count": 341,
   "id": "14851ecc-0d47-4b32-8fda-0538430110f7",
   "metadata": {},
   "outputs": [],
   "source": [
    "def allowed_moves(board, color):\n",
    "    game = strings_to_array(board)\n",
    "    original_game = copy.deepcopy(game)\n",
    "    moves = []\n",
    "    for i in range(0, n - 1):\n",
    "        for j in range(0, n - 1):\n",
    "            game = copy.deepcopy(original_game)\n",
    "            arr = game[i:i + 2, j:j + 2]\n",
    "            arr = np.where(arr == 2, 1, arr)\n",
    "            arr = np.where(arr == -2, -1, arr)\n",
    "            moves.extend(one_step_conv(color, arr, i, j))\n",
    "            \n",
    "            arr = go_down_the_rabbit_hole(color, game, [], i, j)\n",
    "            if arr:\n",
    "                moves.append(arr)\n",
    "            game = copy.deepcopy(original_game)\n",
    "            \n",
    "    remove_non_capturing = False\n",
    "    for move in moves:\n",
    "        if len(move) > 2:\n",
    "            remove_non_capturing = True\n",
    "            break\n",
    "    if remove_non_capturing:\n",
    "        moves = [m for m in moves if len(m) > 2]\n",
    "    return moves"
   ]
  },
  {
   "cell_type": "code",
   "execution_count": 342,
   "id": "1032aa8a-d1eb-46ae-84b9-3d4a8aa05f99",
   "metadata": {
    "tags": []
   },
   "outputs": [
    {
     "data": {
      "text/plain": [
       "[[(1, 2), (3, 0), (5, 2), (3, 4)]]"
      ]
     },
     "execution_count": 342,
     "metadata": {},
     "output_type": "execute_result"
    }
   ],
   "source": [
    "allowed_moves(board, color='b')"
   ]
  },
  {
   "cell_type": "code",
   "execution_count": 328,
   "id": "abb2c104-aab8-45e8-8a2f-27c0ec73757c",
   "metadata": {},
   "outputs": [],
   "source": [
    "board = [\n",
    "            '________',\n",
    "            '__b_____',\n",
    "            '_w_w____',\n",
    "            '________',\n",
    "            '_w______',\n",
    "            '_____b__',\n",
    "            '____w___',\n",
    "            '___w____'\n",
    "        ]"
   ]
  },
  {
   "cell_type": "code",
   "execution_count": null,
   "id": "d5328f35-0c9a-4407-b500-33741df67050",
   "metadata": {},
   "outputs": [],
   "source": []
  }
 ],
 "metadata": {
  "environment": {
   "kernel": "python3",
   "name": "pytorch-gpu.1-9.m82",
   "type": "gcloud",
   "uri": "gcr.io/deeplearning-platform-release/pytorch-gpu.1-9:m82"
  },
  "kernelspec": {
   "display_name": "Python 3",
   "language": "python",
   "name": "python3"
  },
  "language_info": {
   "codemirror_mode": {
    "name": "ipython",
    "version": 3
   },
   "file_extension": ".py",
   "mimetype": "text/x-python",
   "name": "python",
   "nbconvert_exporter": "python",
   "pygments_lexer": "ipython3",
   "version": "3.7.10"
  }
 },
 "nbformat": 4,
 "nbformat_minor": 5
}
