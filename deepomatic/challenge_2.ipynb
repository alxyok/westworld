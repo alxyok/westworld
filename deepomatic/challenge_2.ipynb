{
 "cells": [
  {
   "cell_type": "code",
   "execution_count": 1,
   "id": "fc91f22a-3c7c-41cf-84b7-410f5aeee0fb",
   "metadata": {},
   "outputs": [],
   "source": [
    "import numpy as np"
   ]
  },
  {
   "cell_type": "code",
   "execution_count": null,
   "id": "9de8453b-969f-4c22-a935-344fd4e4e007",
   "metadata": {},
   "outputs": [],
   "source": [
    "def string_to_matrix():\n",
    "    pass"
   ]
  },
  {
   "cell_type": "code",
   "execution_count": 138,
   "id": "de2f738f-bde8-47ef-bb65-c67b6c2a6d4e",
   "metadata": {},
   "outputs": [],
   "source": [
    "new_game = np.array([[0, 1, 0, 1, 0, 1, 0, 1],\n",
    "                     [1, 0, 1, 0, 1, 0, 1, 0],\n",
    "                     [0, 1, 0, 1, 0, 1, 0, 1],\n",
    "                     [0, 0, 0, 0, 0, 0, 0, 0],\n",
    "                     [0, 0, 0, 0, 0, 0, 0, 0],\n",
    "                     [-1, 0, -1, 0, -1, 0, -1, 0],\n",
    "                     [0, -1, 0, -1, 0, -1, 0, -1],\n",
    "                     [-1, 0, -1, 0, -1, 0, -1, 0]])\n",
    "n = new_game.shape[0]"
   ]
  },
  {
   "cell_type": "code",
   "execution_count": 141,
   "id": "d60542ef-4b0c-4055-8f8a-ceca840839e8",
   "metadata": {},
   "outputs": [],
   "source": [
    "zeros = np.zeros((2, 2))\n",
    "one_step_filters = {\n",
    "    'down_left': np.array([[0, 1],\n",
    "                           [0, 0]]),\n",
    "    'down_right': np.array([[1, 0],\n",
    "                            [0, 0]]),\n",
    "    'up_left': np.array([[0, 0],\n",
    "                         [0, -1]]),\n",
    "    'up_right': np.array([[0, 0],\n",
    "                          [-1, 0]])\n",
    "}\n",
    "capturing_first_step_filters = {\n",
    "    'down_left': np.array([[0, 1],\n",
    "                           [-1, 0]]),\n",
    "    'down_right': np.array([[1, 0],\n",
    "                            [0, -1]]),\n",
    "    'up_left': np.array([[1, 0],\n",
    "                         [0, -1]]),\n",
    "    'up_right': np.array([[0, 1],\n",
    "                          [-1, 0]]),\n",
    "    'king_up_left': np.array([[-1, 0],\n",
    "                              [0, 2]]),\n",
    "    'king_up_right': np.array([[0, -1],\n",
    "                               [2, 0]]),\n",
    "    'king_down_left': np.array([[0, -2],\n",
    "                                [1, 0]]),\n",
    "    'king_down_right': np.array([[-2, 0],\n",
    "                                 [0, 1]])\n",
    "}\n",
    "capturing_second_step_filters = {\n",
    "    'down_left': np.array([[0, 1],\n",
    "                           [-1, 0]]),\n",
    "    'down_right': np.array([[1, 0],\n",
    "                            [0, -1]]),\n",
    "    'up_left': np.array([[1, 0],\n",
    "                         [0, -1]]),\n",
    "    'up_right': np.array([[0, 1],\n",
    "                          [-1, 0]]),\n",
    "    'king_up_left': np.array([[-1, 0],\n",
    "                              [0, 2]]),\n",
    "    'king_up_right': np.array([[0, -1],\n",
    "                               [2, 0]]),\n",
    "    'king_down_left': np.array([[0, -2],\n",
    "                                [1, 0]]),\n",
    "    'king_down_right': np.array([[-2, 0],\n",
    "                                 [0, 1]])\n",
    "}\n",
    "capturing_filters = {\n",
    "    'down_left': np.array([[0, 0, 1],\n",
    "                           [0, -1, 0],\n",
    "                           [0, 0, 0]]),\n",
    "    'down_right': np.array([[1, 0, 0],\n",
    "                            [0, -1, 0],\n",
    "                            [0, 0, 0]]),\n",
    "    'up_left': np.array([[0, 0, 0],\n",
    "                         [0, 1, 0],\n",
    "                         [0, 0, -1]]),\n",
    "    'up_right': np.array([[0, 0, 0],\n",
    "                          [0, 1, 0],\n",
    "                          [-1, 0, 0]]),\n",
    "    'king_down_left': np.array([[0, 0, -2],\n",
    "                                [0, 1, 0],\n",
    "                                [0, 0, 0]]),\n",
    "    'king_down_right': np.array([[-2, 0, 0],\n",
    "                                 [0, 1, 0],\n",
    "                                 [0, 0, 0]]),\n",
    "    'king_up_left': np.array([[0, 0, 0],\n",
    "                              [0, -1, 0],\n",
    "                              [0, 0, 2]]),\n",
    "    'king_up_right': np.array([[0, 0, 0],\n",
    "                               [0, -1, 0],\n",
    "                               [2, 0, 0]]),\n",
    "}"
   ]
  },
  {
   "cell_type": "code",
   "execution_count": 132,
   "id": "83090804-e0cf-4ac9-8bef-40a66ef0ad13",
   "metadata": {},
   "outputs": [],
   "source": [
    "def one_step_conv(sub_arr, i, j):\n",
    "    moves = []\n",
    "    for name, filter_ in one_step_filters.items():\n",
    "        is_equal = np.array_equal(sub_arr, filter_)\n",
    "        if is_equal:\n",
    "            move = []\n",
    "            if 'left' in name and 'down' in name:\n",
    "                move.append((i, j + 1))\n",
    "                move.append((i + 1, j))\n",
    "            if 'left' in name and 'up' in name:\n",
    "                move.append((i + 1, j + 1))\n",
    "                move.append((i, j))\n",
    "            if 'right' in name and 'down' in name:\n",
    "                move.append((i, j))\n",
    "                move.append((i + 1, j + 1))\n",
    "            if 'right' in name and 'up' in name:\n",
    "                move.append((i, j + 1))\n",
    "                move.append((i + 1, j))\n",
    "            moves.append(move)\n",
    "    return moves"
   ]
  },
  {
   "cell_type": "code",
   "execution_count": null,
   "id": "c21e89aa-ee5a-4979-93e5-edd8a0c44fa9",
   "metadata": {},
   "outputs": [],
   "source": [
    "def capturing_conv(arr, i, j):\n",
    "    moves = []\n",
    "    for name, filter_ in capturing_filers.item():\n",
    "        is_equal = np.array_equal(arr, filter_)\n",
    "        if is_equal:\n",
    "            move = []\n",
    "            if 'king' not in name:\n",
    "                arr = np.where(arr == 2, 1, arr)\n",
    "                arr = np.where(arr == -2, -1, arr)\n",
    "            if 'down_left' in name or 'up_right' in name:\n",
    "                arr[0, 0] = 0\n",
    "                arr[2, 2] = 0\n",
    "            if 'down_right' in name or 'up_left' in name:\n",
    "                arr[2, 0] = 0\n",
    "                arr[0, 2] = 0\n",
    "            if 'left' in \n",
    "    return []"
   ]
  },
  {
   "cell_type": "code",
   "execution_count": null,
   "id": "2ed047c6-c3ee-482c-8f35-0583383d4a21",
   "metadata": {},
   "outputs": [],
   "source": [
    "def capturing_conv(game, i, j):\n",
    "    for i in range(0, n - 2):\n",
    "        for j in range(0, n - 2):\n",
    "            arr = game[i:i + 3, j:j + 3]\n",
    "            for name, filter_ in capturing_filters.item():\n",
    "                is_equal = np.array_equal(arr, filter_)\n",
    "                if is_equal:\n",
    "                    move = []\n",
    "                    arr[1, 1] = 0\n",
    "                    if 'king' not in name:\n",
    "                        arr = np.where(arr == 2, 1, arr)\n",
    "                        arr = np.where(arr == -2, -1, arr)\n",
    "                    if 'down_left' in name or 'up_right' in name:\n",
    "                        arr[0, 0] = 0\n",
    "                        arr[2, 2] = 0\n",
    "                    if 'down_right' in name or 'up_left' in name:\n",
    "                        arr[2, 0] = 0\n",
    "                        arr[0, 2] = 0\n",
    "                    \n",
    "                    \n",
    "    moves = []\n",
    "    for name, filter_ in capturing_filers.item():\n",
    "        is_equal = np.array_equal(arr, filter_)\n",
    "        if is_equal:\n",
    "            move = []\n",
    "            if 'king' not in name:\n",
    "                arr = np.where(arr == 2, 1, arr)\n",
    "                arr = np.where(arr == -2, -1, arr)\n",
    "            if 'down_left' in name or 'up_right' in name:\n",
    "                arr[0, 0] = 0\n",
    "                arr[2, 2] = 0\n",
    "            if 'down_right' in name or 'up_left' in name:\n",
    "                arr[2, 0] = 0\n",
    "                arr[0, 2] = 0\n",
    "            if 'left' in \n",
    "    return []"
   ]
  },
  {
   "cell_type": "code",
   "execution_count": 135,
   "id": "14851ecc-0d47-4b32-8fda-0538430110f7",
   "metadata": {},
   "outputs": [],
   "source": [
    "def exact_conv(game):\n",
    "    moves = []\n",
    "    for i in range(0, n - 1):\n",
    "        for j in range(0, n - 1):\n",
    "            sub_arr = game[i:i + 2, j:j + 2]\n",
    "            sub_arr = np.where(sub_arr == 2, 1, sub_arr)\n",
    "            sub_arr = np.where(sub_arr == -2, -1, sub_arr)\n",
    "            moves.extend(one_step_conv(sub_arr, i, j))\n",
    "            moves.extend(capturing_conv(game, i, j))\n",
    "            # if i < n - 2 and j < n - 2:\n",
    "            #     sub_arr = game[i:i + 3, j:j + 3]\n",
    "            #     moves.extend(capturing_conv(sub_arr, i, j))\n",
    "    return moves"
   ]
  },
  {
   "cell_type": "code",
   "execution_count": 139,
   "id": "1032aa8a-d1eb-46ae-84b9-3d4a8aa05f99",
   "metadata": {},
   "outputs": [
    {
     "data": {
      "text/plain": [
       "[[(2, 1), (3, 0)],\n",
       " [(2, 1), (3, 2)],\n",
       " [(2, 3), (3, 2)],\n",
       " [(2, 3), (3, 4)],\n",
       " [(2, 5), (3, 4)],\n",
       " [(2, 5), (3, 6)],\n",
       " [(2, 7), (3, 6)],\n",
       " [(4, 1), (5, 0)],\n",
       " [(5, 2), (4, 1)],\n",
       " [(4, 3), (5, 2)],\n",
       " [(5, 4), (4, 3)],\n",
       " [(4, 5), (5, 4)],\n",
       " [(5, 6), (4, 5)],\n",
       " [(4, 7), (5, 6)]]"
      ]
     },
     "execution_count": 139,
     "metadata": {},
     "output_type": "execute_result"
    }
   ],
   "source": [
    "exact_conv(new_game)"
   ]
  },
  {
   "cell_type": "code",
   "execution_count": 124,
   "id": "1cab70df-0396-4d9f-b551-12b9e5731d5f",
   "metadata": {},
   "outputs": [
    {
     "ename": "SyntaxError",
     "evalue": "unexpected EOF while parsing (2471091132.py, line 2)",
     "output_type": "error",
     "traceback": [
      "\u001b[0;36m  File \u001b[0;32m\"/tmp/ipykernel_15184/2471091132.py\"\u001b[0;36m, line \u001b[0;32m2\u001b[0m\n\u001b[0;31m    for i in range(\u001b[0m\n\u001b[0m                   ^\u001b[0m\n\u001b[0;31mSyntaxError\u001b[0m\u001b[0;31m:\u001b[0m unexpected EOF while parsing\n"
     ]
    }
   ],
   "source": [
    "def capturing_conv(name, filter_):\n",
    "    for i in range("
   ]
  },
  {
   "cell_type": "code",
   "execution_count": 126,
   "id": "57a16c84-a5ba-4e28-bf4d-455fe64a8fb9",
   "metadata": {},
   "outputs": [
    {
     "data": {
      "text/plain": [
       "[]"
      ]
     },
     "execution_count": 126,
     "metadata": {},
     "output_type": "execute_result"
    }
   ],
   "source": [
    "moves"
   ]
  },
  {
   "cell_type": "code",
   "execution_count": null,
   "id": "b8bc499c-b0ab-40c1-ba8c-0f66d1a5dab1",
   "metadata": {},
   "outputs": [],
   "source": [
    "def go_down_the_rabbit_hole:\n",
    "    pass"
   ]
  }
 ],
 "metadata": {
  "environment": {
   "kernel": "python3",
   "name": "pytorch-gpu.1-9.m82",
   "type": "gcloud",
   "uri": "gcr.io/deeplearning-platform-release/pytorch-gpu.1-9:m82"
  },
  "kernelspec": {
   "display_name": "Python 3",
   "language": "python",
   "name": "python3"
  },
  "language_info": {
   "codemirror_mode": {
    "name": "ipython",
    "version": 3
   },
   "file_extension": ".py",
   "mimetype": "text/x-python",
   "name": "python",
   "nbconvert_exporter": "python",
   "pygments_lexer": "ipython3",
   "version": "3.7.10"
  }
 },
 "nbformat": 4,
 "nbformat_minor": 5
}
